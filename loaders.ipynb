{
 "cells": [
  {
   "cell_type": "code",
   "execution_count": 20,
   "metadata": {},
   "outputs": [
    {
     "name": "stdout",
     "output_type": "stream",
     "text": [
      "Requirement already satisfied: langchain in c:\\users\\user\\appdata\\local\\programs\\python\\python311\\lib\\site-packages (0.0.231)\n",
      "Requirement already satisfied: PyYAML>=5.4.1 in c:\\users\\user\\appdata\\local\\programs\\python\\python311\\lib\\site-packages (from langchain) (6.0)\n",
      "Requirement already satisfied: SQLAlchemy<3,>=1.4 in c:\\users\\user\\appdata\\local\\programs\\python\\python311\\lib\\site-packages (from langchain) (1.4.48)\n",
      "Requirement already satisfied: aiohttp<4.0.0,>=3.8.3 in c:\\users\\user\\appdata\\local\\programs\\python\\python311\\lib\\site-packages (from langchain) (3.8.4)\n",
      "Requirement already satisfied: dataclasses-json<0.6.0,>=0.5.7 in c:\\users\\user\\appdata\\local\\programs\\python\\python311\\lib\\site-packages (from langchain) (0.5.7)\n",
      "Requirement already satisfied: langchainplus-sdk<0.0.21,>=0.0.20 in c:\\users\\user\\appdata\\local\\programs\\python\\python311\\lib\\site-packages (from langchain) (0.0.20)\n",
      "Requirement already satisfied: numexpr<3.0.0,>=2.8.4 in c:\\users\\user\\appdata\\local\\programs\\python\\python311\\lib\\site-packages (from langchain) (2.8.4)\n",
      "Requirement already satisfied: numpy<2,>=1 in c:\\users\\user\\appdata\\local\\programs\\python\\python311\\lib\\site-packages (from langchain) (1.24.3)\n",
      "Requirement already satisfied: openapi-schema-pydantic<2.0,>=1.2 in c:\\users\\user\\appdata\\local\\programs\\python\\python311\\lib\\site-packages (from langchain) (1.2.4)\n",
      "Requirement already satisfied: pydantic<2,>=1 in c:\\users\\user\\appdata\\local\\programs\\python\\python311\\lib\\site-packages (from langchain) (1.10.7)\n",
      "Requirement already satisfied: requests<3,>=2 in c:\\users\\user\\appdata\\local\\programs\\python\\python311\\lib\\site-packages (from langchain) (2.28.2)\n",
      "Requirement already satisfied: tenacity<9.0.0,>=8.1.0 in c:\\users\\user\\appdata\\local\\programs\\python\\python311\\lib\\site-packages (from langchain) (8.2.2)\n",
      "Requirement already satisfied: attrs>=17.3.0 in c:\\users\\user\\appdata\\local\\programs\\python\\python311\\lib\\site-packages (from aiohttp<4.0.0,>=3.8.3->langchain) (23.1.0)\n",
      "Requirement already satisfied: charset-normalizer<4.0,>=2.0 in c:\\users\\user\\appdata\\local\\programs\\python\\python311\\lib\\site-packages (from aiohttp<4.0.0,>=3.8.3->langchain) (3.1.0)\n",
      "Requirement already satisfied: multidict<7.0,>=4.5 in c:\\users\\user\\appdata\\local\\programs\\python\\python311\\lib\\site-packages (from aiohttp<4.0.0,>=3.8.3->langchain) (6.0.4)\n",
      "Requirement already satisfied: async-timeout<5.0,>=4.0.0a3 in c:\\users\\user\\appdata\\local\\programs\\python\\python311\\lib\\site-packages (from aiohttp<4.0.0,>=3.8.3->langchain) (4.0.2)\n",
      "Requirement already satisfied: yarl<2.0,>=1.0 in c:\\users\\user\\appdata\\local\\programs\\python\\python311\\lib\\site-packages (from aiohttp<4.0.0,>=3.8.3->langchain) (1.9.1)\n",
      "Requirement already satisfied: frozenlist>=1.1.1 in c:\\users\\user\\appdata\\local\\programs\\python\\python311\\lib\\site-packages (from aiohttp<4.0.0,>=3.8.3->langchain) (1.3.3)\n",
      "Requirement already satisfied: aiosignal>=1.1.2 in c:\\users\\user\\appdata\\local\\programs\\python\\python311\\lib\\site-packages (from aiohttp<4.0.0,>=3.8.3->langchain) (1.3.1)\n",
      "Requirement already satisfied: marshmallow<4.0.0,>=3.3.0 in c:\\users\\user\\appdata\\local\\programs\\python\\python311\\lib\\site-packages (from dataclasses-json<0.6.0,>=0.5.7->langchain) (3.19.0)\n",
      "Requirement already satisfied: marshmallow-enum<2.0.0,>=1.5.1 in c:\\users\\user\\appdata\\local\\programs\\python\\python311\\lib\\site-packages (from dataclasses-json<0.6.0,>=0.5.7->langchain) (1.5.1)\n",
      "Requirement already satisfied: typing-inspect>=0.4.0 in c:\\users\\user\\appdata\\local\\programs\\python\\python311\\lib\\site-packages (from dataclasses-json<0.6.0,>=0.5.7->langchain) (0.8.0)\n",
      "Requirement already satisfied: typing-extensions>=4.2.0 in c:\\users\\user\\appdata\\local\\programs\\python\\python311\\lib\\site-packages (from pydantic<2,>=1->langchain) (4.5.0)\n",
      "Requirement already satisfied: idna<4,>=2.5 in c:\\users\\user\\appdata\\local\\programs\\python\\python311\\lib\\site-packages (from requests<3,>=2->langchain) (3.4)\n",
      "Requirement already satisfied: urllib3<1.27,>=1.21.1 in c:\\users\\user\\appdata\\local\\programs\\python\\python311\\lib\\site-packages (from requests<3,>=2->langchain) (1.26.15)\n",
      "Requirement already satisfied: certifi>=2017.4.17 in c:\\users\\user\\appdata\\local\\programs\\python\\python311\\lib\\site-packages (from requests<3,>=2->langchain) (2022.12.7)\n",
      "Requirement already satisfied: greenlet!=0.4.17 in c:\\users\\user\\appdata\\local\\programs\\python\\python311\\lib\\site-packages (from SQLAlchemy<3,>=1.4->langchain) (2.0.2)\n",
      "Requirement already satisfied: packaging>=17.0 in c:\\users\\user\\appdata\\local\\programs\\python\\python311\\lib\\site-packages (from marshmallow<4.0.0,>=3.3.0->dataclasses-json<0.6.0,>=0.5.7->langchain) (23.1)\n",
      "Requirement already satisfied: mypy-extensions>=0.3.0 in c:\\users\\user\\appdata\\local\\programs\\python\\python311\\lib\\site-packages (from typing-inspect>=0.4.0->dataclasses-json<0.6.0,>=0.5.7->langchain) (1.0.0)\n"
     ]
    },
    {
     "name": "stderr",
     "output_type": "stream",
     "text": [
      "\n",
      "[notice] A new release of pip is available: 23.1.2 -> 23.2\n",
      "[notice] To update, run: python.exe -m pip install --upgrade pip\n"
     ]
    }
   ],
   "source": [
    "!pip install langchain"
   ]
  },
  {
   "cell_type": "code",
   "execution_count": 21,
   "metadata": {},
   "outputs": [],
   "source": [
    "from langchain.document_loaders import TextLoader, CSVLoader "
   ]
  },
  {
   "cell_type": "markdown",
   "metadata": {},
   "source": [
    "Since both classes implement the BaseLoader interface, multiple inheritance is not an option. \n",
    "MyLoader(TextLoader, CSVLoader) <- does not work\n",
    "A solution to overcome this might be to use a Strategy Pattern with a custom class"
   ]
  },
  {
   "cell_type": "code",
   "execution_count": 22,
   "metadata": {},
   "outputs": [],
   "source": [
    "class MyLoader:\n",
    "    def __init__(self, file_path, **kwargs):\n",
    "        if file_path.endswith('.csv'):\n",
    "            self.loader = CSVLoader(file_path, **kwargs)\n",
    "        else:\n",
    "            self.loader = TextLoader(file_path, **kwargs)\n",
    "    \n",
    "    def load(self):\n",
    "        return self.loader.load()\n"
   ]
  },
  {
   "cell_type": "markdown",
   "metadata": {},
   "source": [
    "If the you need custom functionality, you can implement your own Loader. Create a new class that inherits from BaseLoader and implements the abstract method load"
   ]
  },
  {
   "cell_type": "code",
   "execution_count": 23,
   "metadata": {},
   "outputs": [],
   "source": [
    "from datetime import datetime\n",
    "from typing import List\n",
    "import csv\n",
    "from langchain.docstore.document import Document\n",
    "from langchain.document_loaders.base import BaseLoader\n",
    "from typing import Optional, Dict\n",
    "\n",
    "class SingleColumnCSVLoader(BaseLoader):\n",
    "\n",
    "    def __init__(\n",
    "        self,\n",
    "        file_path: str,\n",
    "        source_column: Optional[str] = None,\n",
    "        csv_args: Optional[Dict] = None,\n",
    "        encoding: Optional[str] = None,\n",
    "        column_name: str = None\n",
    "    ):\n",
    "        self.file_path = file_path\n",
    "        self.source_column = source_column\n",
    "        self.encoding = encoding\n",
    "        self.csv_args = csv_args or {}\n",
    "        self.column_name = column_name\n",
    "    def load(self) -> List[Document]:\n",
    "        docs = []\n",
    "        with open(self.file_path, newline=\"\", encoding=self.encoding) as csvfile:\n",
    "            csv_reader = csv.DictReader(csvfile, **self.csv_args)\n",
    "            for i, row in enumerate(csv_reader):\n",
    "                try:\n",
    "                    content = row[self.column_name].strip()\n",
    "                except KeyError:\n",
    "                    raise ValueError(f\"Column '{self.column_name}' not found in CSV file.\")\n",
    "                except Exception as e:\n",
    "                    print(f\"Unexpected error: {str(e)}\")\n",
    "                    print(f\"Current row: {row}\")\n",
    "                    continue\n",
    "                \n",
    "                timestamp = datetime.now().isoformat()\n",
    "                metadata = {\"source\": self.file_path, \"timestamp\": timestamp, \"row\": i, \"content\": content}\n",
    "                doc = Document(page_content=content, metadata=metadata)\n",
    "                docs.append(doc)\n",
    "\n",
    "        return docs\n"
   ]
  },
  {
   "cell_type": "code",
   "execution_count": 24,
   "metadata": {},
   "outputs": [
    {
     "data": {
      "text/plain": [
       "[Document(page_content='The restaurant is open from 11 am to 11 pm, Monday through Sunday.', metadata={'source': 'restaurant.csv', 'timestamp': '2023-07-19T18:56:37.017044', 'row': 0, 'content': 'The restaurant is open from 11 am to 11 pm, Monday through Sunday.'}),\n",
       " Document(page_content='The restaurant specializes in Italian cuisine.', metadata={'source': 'restaurant.csv', 'timestamp': '2023-07-19T18:56:37.017044', 'row': 1, 'content': 'The restaurant specializes in Italian cuisine.'}),\n",
       " Document(page_content='Yes, the restaurant has a variety of vegetarian and vegan dishes.', metadata={'source': 'restaurant.csv', 'timestamp': '2023-07-19T18:56:37.017044', 'row': 2, 'content': 'Yes, the restaurant has a variety of vegetarian and vegan dishes.'}),\n",
       " Document(page_content='Yes, you can make a reservation online or by calling the restaurant.', metadata={'source': 'restaurant.csv', 'timestamp': '2023-07-19T18:56:37.017044', 'row': 3, 'content': 'Yes, you can make a reservation online or by calling the restaurant.'}),\n",
       " Document(page_content='Yes, there is a parking lot available for customers.', metadata={'source': 'restaurant.csv', 'timestamp': '2023-07-19T18:56:37.017044', 'row': 4, 'content': 'Yes, there is a parking lot available for customers.'}),\n",
       " Document(page_content='Yes, both takeout and delivery options are available.', metadata={'source': 'restaurant.csv', 'timestamp': '2023-07-19T18:56:37.017044', 'row': 5, 'content': 'Yes, both takeout and delivery options are available.'}),\n",
       " Document(page_content='Yes, there is a menu specifically for children.', metadata={'source': 'restaurant.csv', 'timestamp': '2023-07-19T18:56:37.017044', 'row': 6, 'content': 'Yes, there is a menu specifically for children.'}),\n",
       " Document(page_content='The dress code is casual, but we encourage guests to dress up for special occasions.', metadata={'source': 'restaurant.csv', 'timestamp': '2023-07-19T18:56:37.017044', 'row': 7, 'content': 'The dress code is casual, but we encourage guests to dress up for special occasions.'}),\n",
       " Document(page_content='Yes, please inform your server about any food allergies.', metadata={'source': 'restaurant.csv', 'timestamp': '2023-07-19T18:56:37.017044', 'row': 8, 'content': 'Yes, please inform your server about any food allergies.'}),\n",
       " Document(page_content='Yes, we have a loyalty program that offers discounts for regular customers.', metadata={'source': 'restaurant.csv', 'timestamp': '2023-07-19T18:56:37.017044', 'row': 9, 'content': 'Yes, we have a loyalty program that offers discounts for regular customers.'})]"
      ]
     },
     "execution_count": 24,
     "metadata": {},
     "output_type": "execute_result"
    }
   ],
   "source": [
    "loader = SingleColumnCSVLoader(file_path=\"restaurant.csv\", column_name=\"Answer\", csv_args={\"delimiter\": \";\"})\n",
    "docs = loader.load()\n",
    "docs"
   ]
  },
  {
   "cell_type": "code",
   "execution_count": 25,
   "metadata": {},
   "outputs": [],
   "source": [
    "import os\n",
    "\n",
    "class DirectoryLoader:\n",
    "\n",
    "    def __init__(self, dir_path, **kwargs):\n",
    "        self.dir_path = dir_path\n",
    "        self.kwargs = kwargs\n",
    "\n",
    "    def load(self):\n",
    "        docs = []\n",
    "        for root, _, files in os.walk(self.dir_path):\n",
    "            for file in files:\n",
    "                file_path = os.path.join(root, file)\n",
    "                if file_path.endswith('.csv'):\n",
    "                    loader = SingleColumnCSVLoader(file_path, **self.kwargs)\n",
    "                elif file_path.endswith('.txt'):\n",
    "                    loader = TextLoader(file_path, **self.kwargs)\n",
    "                else:\n",
    "                    print(f\"Do not process the file: {file_path}\")\n",
    "                    continue\n",
    "                loaded_docs = loader.load()\n",
    "                docs.extend(loaded_docs)\n",
    "        return docs"
   ]
  },
  {
   "cell_type": "code",
   "execution_count": 26,
   "metadata": {},
   "outputs": [
    {
     "name": "stdout",
     "output_type": "stream",
     "text": [
      "Do not process the file: c:\\Users\\User\\Desktop\\CustomLoaders\\data\\a\\test.pdf\n"
     ]
    },
    {
     "data": {
      "text/plain": [
       "[Document(page_content='The restaurant is open from 11 am to 11 pm, Monday through Sunday.', metadata={'source': 'c:\\\\Users\\\\User\\\\Desktop\\\\CustomLoaders\\\\data\\\\a\\\\a.csv', 'timestamp': '2023-07-19T18:56:37.034619', 'row': 0, 'content': 'The restaurant is open from 11 am to 11 pm, Monday through Sunday.'}),\n",
       " Document(page_content='The restaurant specializes in Italian cuisine.', metadata={'source': 'c:\\\\Users\\\\User\\\\Desktop\\\\CustomLoaders\\\\data\\\\a\\\\a.csv', 'timestamp': '2023-07-19T18:56:37.034619', 'row': 1, 'content': 'The restaurant specializes in Italian cuisine.'}),\n",
       " Document(page_content='Yes, the restaurant has a variety of vegetarian and vegan dishes.', metadata={'source': 'c:\\\\Users\\\\User\\\\Desktop\\\\CustomLoaders\\\\data\\\\a\\\\a.csv', 'timestamp': '2023-07-19T18:56:37.034619', 'row': 2, 'content': 'Yes, the restaurant has a variety of vegetarian and vegan dishes.'}),\n",
       " Document(page_content='Yes, you can make a reservation online or by calling the restaurant.', metadata={'source': 'c:\\\\Users\\\\User\\\\Desktop\\\\CustomLoaders\\\\data\\\\a\\\\a.csv', 'timestamp': '2023-07-19T18:56:37.034619', 'row': 3, 'content': 'Yes, you can make a reservation online or by calling the restaurant.'}),\n",
       " Document(page_content='Yes, there is a parking lot available for customers.', metadata={'source': 'c:\\\\Users\\\\User\\\\Desktop\\\\CustomLoaders\\\\data\\\\a\\\\a.csv', 'timestamp': '2023-07-19T18:56:37.034619', 'row': 4, 'content': 'Yes, there is a parking lot available for customers.'}),\n",
       " Document(page_content='Yes, both takeout and delivery options are available.', metadata={'source': 'c:\\\\Users\\\\User\\\\Desktop\\\\CustomLoaders\\\\data\\\\a\\\\a.csv', 'timestamp': '2023-07-19T18:56:37.034619', 'row': 5, 'content': 'Yes, both takeout and delivery options are available.'}),\n",
       " Document(page_content='Yes, there is a menu specifically for children.', metadata={'source': 'c:\\\\Users\\\\User\\\\Desktop\\\\CustomLoaders\\\\data\\\\a\\\\a.csv', 'timestamp': '2023-07-19T18:56:37.034619', 'row': 6, 'content': 'Yes, there is a menu specifically for children.'}),\n",
       " Document(page_content='The dress code is casual, but we encourage guests to dress up for special occasions.', metadata={'source': 'c:\\\\Users\\\\User\\\\Desktop\\\\CustomLoaders\\\\data\\\\a\\\\a.csv', 'timestamp': '2023-07-19T18:56:37.034619', 'row': 7, 'content': 'The dress code is casual, but we encourage guests to dress up for special occasions.'}),\n",
       " Document(page_content='Yes, please inform your server about any food allergies.', metadata={'source': 'c:\\\\Users\\\\User\\\\Desktop\\\\CustomLoaders\\\\data\\\\a\\\\a.csv', 'timestamp': '2023-07-19T18:56:37.034619', 'row': 8, 'content': 'Yes, please inform your server about any food allergies.'}),\n",
       " Document(page_content='Yes, we have a loyalty program that offers discounts for regular customers.', metadata={'source': 'c:\\\\Users\\\\User\\\\Desktop\\\\CustomLoaders\\\\data\\\\a\\\\a.csv', 'timestamp': '2023-07-19T18:56:37.034619', 'row': 9, 'content': 'Yes, we have a loyalty program that offers discounts for regular customers.'}),\n",
       " Document(page_content='The restaurant is open from 11 am to 11 pm, Monday through Sunday.', metadata={'source': 'c:\\\\Users\\\\User\\\\Desktop\\\\CustomLoaders\\\\data\\\\b\\\\b.csv', 'timestamp': '2023-07-19T18:56:37.035616', 'row': 0, 'content': 'The restaurant is open from 11 am to 11 pm, Monday through Sunday.'}),\n",
       " Document(page_content='The restaurant specializes in Italian cuisine.', metadata={'source': 'c:\\\\Users\\\\User\\\\Desktop\\\\CustomLoaders\\\\data\\\\b\\\\b.csv', 'timestamp': '2023-07-19T18:56:37.035616', 'row': 1, 'content': 'The restaurant specializes in Italian cuisine.'}),\n",
       " Document(page_content='Yes, the restaurant has a variety of vegetarian and vegan dishes.', metadata={'source': 'c:\\\\Users\\\\User\\\\Desktop\\\\CustomLoaders\\\\data\\\\b\\\\b.csv', 'timestamp': '2023-07-19T18:56:37.035616', 'row': 2, 'content': 'Yes, the restaurant has a variety of vegetarian and vegan dishes.'}),\n",
       " Document(page_content='Yes, you can make a reservation online or by calling the restaurant.', metadata={'source': 'c:\\\\Users\\\\User\\\\Desktop\\\\CustomLoaders\\\\data\\\\b\\\\b.csv', 'timestamp': '2023-07-19T18:56:37.035616', 'row': 3, 'content': 'Yes, you can make a reservation online or by calling the restaurant.'}),\n",
       " Document(page_content='Yes, there is a parking lot available for customers.', metadata={'source': 'c:\\\\Users\\\\User\\\\Desktop\\\\CustomLoaders\\\\data\\\\b\\\\b.csv', 'timestamp': '2023-07-19T18:56:37.035616', 'row': 4, 'content': 'Yes, there is a parking lot available for customers.'}),\n",
       " Document(page_content='Yes, both takeout and delivery options are available.', metadata={'source': 'c:\\\\Users\\\\User\\\\Desktop\\\\CustomLoaders\\\\data\\\\b\\\\b.csv', 'timestamp': '2023-07-19T18:56:37.035616', 'row': 5, 'content': 'Yes, both takeout and delivery options are available.'}),\n",
       " Document(page_content='Yes, there is a menu specifically for children.', metadata={'source': 'c:\\\\Users\\\\User\\\\Desktop\\\\CustomLoaders\\\\data\\\\b\\\\b.csv', 'timestamp': '2023-07-19T18:56:37.035616', 'row': 6, 'content': 'Yes, there is a menu specifically for children.'}),\n",
       " Document(page_content='The dress code is casual, but we encourage guests to dress up for special occasions.', metadata={'source': 'c:\\\\Users\\\\User\\\\Desktop\\\\CustomLoaders\\\\data\\\\b\\\\b.csv', 'timestamp': '2023-07-19T18:56:37.035616', 'row': 7, 'content': 'The dress code is casual, but we encourage guests to dress up for special occasions.'}),\n",
       " Document(page_content='Yes, please inform your server about any food allergies.', metadata={'source': 'c:\\\\Users\\\\User\\\\Desktop\\\\CustomLoaders\\\\data\\\\b\\\\b.csv', 'timestamp': '2023-07-19T18:56:37.035616', 'row': 8, 'content': 'Yes, please inform your server about any food allergies.'}),\n",
       " Document(page_content='Yes, we have a loyalty program that offers discounts for regular customers.', metadata={'source': 'c:\\\\Users\\\\User\\\\Desktop\\\\CustomLoaders\\\\data\\\\b\\\\b.csv', 'timestamp': '2023-07-19T18:56:37.035616', 'row': 9, 'content': 'Yes, we have a loyalty program that offers discounts for regular customers.'}),\n",
       " Document(page_content='The restaurant is open from 11 am to 11 pm, Monday through Sunday.', metadata={'source': 'c:\\\\Users\\\\User\\\\Desktop\\\\CustomLoaders\\\\data\\\\c\\\\c.csv', 'timestamp': '2023-07-19T18:56:37.035616', 'row': 0, 'content': 'The restaurant is open from 11 am to 11 pm, Monday through Sunday.'}),\n",
       " Document(page_content='The restaurant specializes in Italian cuisine.', metadata={'source': 'c:\\\\Users\\\\User\\\\Desktop\\\\CustomLoaders\\\\data\\\\c\\\\c.csv', 'timestamp': '2023-07-19T18:56:37.035616', 'row': 1, 'content': 'The restaurant specializes in Italian cuisine.'}),\n",
       " Document(page_content='Yes, the restaurant has a variety of vegetarian and vegan dishes.', metadata={'source': 'c:\\\\Users\\\\User\\\\Desktop\\\\CustomLoaders\\\\data\\\\c\\\\c.csv', 'timestamp': '2023-07-19T18:56:37.035616', 'row': 2, 'content': 'Yes, the restaurant has a variety of vegetarian and vegan dishes.'}),\n",
       " Document(page_content='Yes, you can make a reservation online or by calling the restaurant.', metadata={'source': 'c:\\\\Users\\\\User\\\\Desktop\\\\CustomLoaders\\\\data\\\\c\\\\c.csv', 'timestamp': '2023-07-19T18:56:37.035616', 'row': 3, 'content': 'Yes, you can make a reservation online or by calling the restaurant.'}),\n",
       " Document(page_content='Yes, there is a parking lot available for customers.', metadata={'source': 'c:\\\\Users\\\\User\\\\Desktop\\\\CustomLoaders\\\\data\\\\c\\\\c.csv', 'timestamp': '2023-07-19T18:56:37.035616', 'row': 4, 'content': 'Yes, there is a parking lot available for customers.'}),\n",
       " Document(page_content='Yes, both takeout and delivery options are available.', metadata={'source': 'c:\\\\Users\\\\User\\\\Desktop\\\\CustomLoaders\\\\data\\\\c\\\\c.csv', 'timestamp': '2023-07-19T18:56:37.035616', 'row': 5, 'content': 'Yes, both takeout and delivery options are available.'}),\n",
       " Document(page_content='Yes, there is a menu specifically for children.', metadata={'source': 'c:\\\\Users\\\\User\\\\Desktop\\\\CustomLoaders\\\\data\\\\c\\\\c.csv', 'timestamp': '2023-07-19T18:56:37.035616', 'row': 6, 'content': 'Yes, there is a menu specifically for children.'}),\n",
       " Document(page_content='The dress code is casual, but we encourage guests to dress up for special occasions.', metadata={'source': 'c:\\\\Users\\\\User\\\\Desktop\\\\CustomLoaders\\\\data\\\\c\\\\c.csv', 'timestamp': '2023-07-19T18:56:37.035616', 'row': 7, 'content': 'The dress code is casual, but we encourage guests to dress up for special occasions.'}),\n",
       " Document(page_content='Yes, please inform your server about any food allergies.', metadata={'source': 'c:\\\\Users\\\\User\\\\Desktop\\\\CustomLoaders\\\\data\\\\c\\\\c.csv', 'timestamp': '2023-07-19T18:56:37.035616', 'row': 8, 'content': 'Yes, please inform your server about any food allergies.'}),\n",
       " Document(page_content='Yes, we have a loyalty program that offers discounts for regular customers.', metadata={'source': 'c:\\\\Users\\\\User\\\\Desktop\\\\CustomLoaders\\\\data\\\\c\\\\c.csv', 'timestamp': '2023-07-19T18:56:37.035616', 'row': 9, 'content': 'Yes, we have a loyalty program that offers discounts for regular customers.'})]"
      ]
     },
     "execution_count": 26,
     "metadata": {},
     "output_type": "execute_result"
    }
   ],
   "source": [
    "loader = DirectoryLoader(os.path.join(os.getcwd(), \"data\"), column_name=\"Answer\", csv_args={\"delimiter\": \";\"})\n",
    "docs = loader.load()\n",
    "docs"
   ]
  }
 ],
 "metadata": {
  "kernelspec": {
   "display_name": "Python 3",
   "language": "python",
   "name": "python3"
  },
  "language_info": {
   "codemirror_mode": {
    "name": "ipython",
    "version": 3
   },
   "file_extension": ".py",
   "mimetype": "text/x-python",
   "name": "python",
   "nbconvert_exporter": "python",
   "pygments_lexer": "ipython3",
   "version": "3.11.0"
  },
  "orig_nbformat": 4
 },
 "nbformat": 4,
 "nbformat_minor": 2
}
